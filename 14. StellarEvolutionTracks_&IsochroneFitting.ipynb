{
 "cells": [
  {
   "cell_type": "markdown",
   "id": "84a817eb",
   "metadata": {},
   "source": [
    "# Stellar Evolution Tracks & Isochrone Fitting\n",
    "# ------------------------------------------------------\n",
    "# We use Gaia DR3 + MIST isochrones to study the Pleiades cluster."
   ]
  },
  {
   "cell_type": "code",
   "execution_count": 7,
   "id": "c3a18742",
   "metadata": {},
   "outputs": [],
   "source": [
    "# Module 7: CMD + Isochrone (without multinest)\n",
    "import numpy as np\n",
    "import pandas as pd\n",
    "import matplotlib.pyplot as plt\n",
    "from astroquery.vizier import Vizier\n",
    "\n",
    "# ---------------------------\n",
    "# 1. Get Gaia Pleiades data\n",
    "# ---------------------------\n",
    "Vizier.ROW_LIMIT = 5000\n",
    "result = Vizier.query_region(\"M45\", radius=\"2 deg\", catalog=\"I/355/gaiadr3\")\n",
    "\n",
    "pleiades = result[0].to_pandas()\n",
    "\n",
    "# Clean stars with good parallaxes\n",
    "mask = (pleiades[\"Plx\"] > 6) & (pleiades[\"Plx\"] < 9) & (pleiades[\"e_Plx\"] < 0.5)\n",
    "pleiades_clean = pleiades[mask]\n",
    "\n",
    "bp_rp = pleiades_clean[\"BPmag\"] - pleiades_clean[\"RPmag\"]\n",
    "M_G = pleiades_clean[\"Gmag\"] + 5*np.log10(pleiades_clean[\"Plx\"]/1000.) + 5"
   ]
  },
  {
   "cell_type": "code",
   "execution_count": 13,
   "id": "a7016863",
   "metadata": {},
   "outputs": [
    {
     "ename": "KeyboardInterrupt",
     "evalue": "",
     "output_type": "error",
     "traceback": [
      "\u001b[31m---------------------------------------------------------------------------\u001b[39m",
      "\u001b[31mKeyboardInterrupt\u001b[39m                         Traceback (most recent call last)",
      "\u001b[36mCell\u001b[39m\u001b[36m \u001b[39m\u001b[32mIn[13]\u001b[39m\u001b[32m, line 7\u001b[39m\n\u001b[32m      4\u001b[39m Vizier.ROW_LIMIT = -\u001b[32m1\u001b[39m  \n\u001b[32m      6\u001b[39m \u001b[38;5;66;03m# Query the entire catalog (all tables under J/A+A/632/A105)\u001b[39;00m\n\u001b[32m----> \u001b[39m\u001b[32m7\u001b[39m result = Vizier.get_catalogs(\u001b[33m\"\u001b[39m\u001b[33mJ/A+A/632/A105\u001b[39m\u001b[33m\"\u001b[39m)\n\u001b[32m      9\u001b[39m \u001b[38;5;28mprint\u001b[39m(\u001b[33m\"\u001b[39m\u001b[33mAvailable tables:\u001b[39m\u001b[33m\"\u001b[39m, result.keys())\n",
      "\u001b[36mFile \u001b[39m\u001b[32mc:\\Users\\nicek\\anaconda3\\envs\\anaconda-toolbox\\Lib\\site-packages\\astroquery\\utils\\class_or_instance.py:25\u001b[39m, in \u001b[36mclass_or_instance.__get__.<locals>.f\u001b[39m\u001b[34m(*args, **kwds)\u001b[39m\n\u001b[32m     23\u001b[39m \u001b[38;5;28;01mdef\u001b[39;00m\u001b[38;5;250m \u001b[39m\u001b[34mf\u001b[39m(*args, **kwds):\n\u001b[32m     24\u001b[39m     \u001b[38;5;28;01mif\u001b[39;00m obj \u001b[38;5;129;01mis\u001b[39;00m \u001b[38;5;129;01mnot\u001b[39;00m \u001b[38;5;28;01mNone\u001b[39;00m:\n\u001b[32m---> \u001b[39m\u001b[32m25\u001b[39m         \u001b[38;5;28;01mreturn\u001b[39;00m \u001b[38;5;28mself\u001b[39m.fn(obj, *args, **kwds)\n\u001b[32m     26\u001b[39m     \u001b[38;5;28;01melse\u001b[39;00m:\n\u001b[32m     27\u001b[39m         \u001b[38;5;28;01mreturn\u001b[39;00m \u001b[38;5;28mself\u001b[39m.fn(\u001b[38;5;28mcls\u001b[39m, *args, **kwds)\n",
      "\u001b[36mFile \u001b[39m\u001b[32mc:\\Users\\nicek\\anaconda3\\envs\\anaconda-toolbox\\Lib\\site-packages\\astroquery\\utils\\process_asyncs.py:26\u001b[39m, in \u001b[36masync_to_sync.<locals>.create_method.<locals>.newmethod\u001b[39m\u001b[34m(self, *args, **kwargs)\u001b[39m\n\u001b[32m     22\u001b[39m \u001b[38;5;129m@class_or_instance\u001b[39m\n\u001b[32m     23\u001b[39m \u001b[38;5;28;01mdef\u001b[39;00m\u001b[38;5;250m \u001b[39m\u001b[34mnewmethod\u001b[39m(\u001b[38;5;28mself\u001b[39m, *args, **kwargs):\n\u001b[32m     24\u001b[39m     verbose = kwargs.pop(\u001b[33m'\u001b[39m\u001b[33mverbose\u001b[39m\u001b[33m'\u001b[39m, \u001b[38;5;28;01mFalse\u001b[39;00m)\n\u001b[32m---> \u001b[39m\u001b[32m26\u001b[39m     response = \u001b[38;5;28mgetattr\u001b[39m(\u001b[38;5;28mself\u001b[39m, async_method_name)(*args, **kwargs)\n\u001b[32m     27\u001b[39m     \u001b[38;5;28;01mif\u001b[39;00m kwargs.get(\u001b[33m'\u001b[39m\u001b[33mget_query_payload\u001b[39m\u001b[33m'\u001b[39m) \u001b[38;5;129;01mor\u001b[39;00m kwargs.get(\u001b[33m'\u001b[39m\u001b[33mfield_help\u001b[39m\u001b[33m'\u001b[39m):\n\u001b[32m     28\u001b[39m         \u001b[38;5;28;01mreturn\u001b[39;00m response\n",
      "\u001b[36mFile \u001b[39m\u001b[32mc:\\Users\\nicek\\anaconda3\\envs\\anaconda-toolbox\\Lib\\site-packages\\astroquery\\vizier\\core.py:270\u001b[39m, in \u001b[36mVizierClass.get_catalogs_async\u001b[39m\u001b[34m(self, catalog, verbose, return_type, get_query_payload)\u001b[39m\n\u001b[32m    267\u001b[39m \u001b[38;5;28;01mif\u001b[39;00m get_query_payload:\n\u001b[32m    268\u001b[39m     \u001b[38;5;28;01mreturn\u001b[39;00m data_payload\n\u001b[32m--> \u001b[39m\u001b[32m270\u001b[39m response = \u001b[38;5;28mself\u001b[39m._request(\n\u001b[32m    271\u001b[39m     method=\u001b[33m'\u001b[39m\u001b[33mPOST\u001b[39m\u001b[33m'\u001b[39m, url=\u001b[38;5;28mself\u001b[39m._server_to_url(return_type=return_type),\n\u001b[32m    272\u001b[39m     data=data_payload, timeout=\u001b[38;5;28mself\u001b[39m.TIMEOUT)\n\u001b[32m    274\u001b[39m \u001b[38;5;28;01mreturn\u001b[39;00m response\n",
      "\u001b[36mFile \u001b[39m\u001b[32mc:\\Users\\nicek\\anaconda3\\envs\\anaconda-toolbox\\Lib\\site-packages\\astroquery\\query.py:379\u001b[39m, in \u001b[36mBaseQuery._request\u001b[39m\u001b[34m(self, method, url, params, data, headers, files, save, savedir, timeout, cache, stream, auth, continuation, verify, allow_redirects, json, return_response_on_save)\u001b[39m\n\u001b[32m    377\u001b[39m     response = query.from_cache(\u001b[38;5;28mself\u001b[39m.cache_location, cache_conf.cache_timeout)\n\u001b[32m    378\u001b[39m     \u001b[38;5;28;01mif\u001b[39;00m \u001b[38;5;129;01mnot\u001b[39;00m response:\n\u001b[32m--> \u001b[39m\u001b[32m379\u001b[39m         response = query.request(\u001b[38;5;28mself\u001b[39m._session,\n\u001b[32m    380\u001b[39m                                  \u001b[38;5;28mself\u001b[39m.cache_location,\n\u001b[32m    381\u001b[39m                                  stream=stream,\n\u001b[32m    382\u001b[39m                                  auth=auth,\n\u001b[32m    383\u001b[39m                                  allow_redirects=allow_redirects,\n\u001b[32m    384\u001b[39m                                  verify=verify,\n\u001b[32m    385\u001b[39m                                  json=json)\n\u001b[32m    386\u001b[39m         to_cache(response, query.request_file(\u001b[38;5;28mself\u001b[39m.cache_location))\n\u001b[32m    388\u001b[39m \u001b[38;5;28mself\u001b[39m._last_query = query\n",
      "\u001b[36mFile \u001b[39m\u001b[32mc:\\Users\\nicek\\anaconda3\\envs\\anaconda-toolbox\\Lib\\site-packages\\astroquery\\query.py:77\u001b[39m, in \u001b[36mAstroQuery.request\u001b[39m\u001b[34m(self, session, cache_location, stream, auth, verify, allow_redirects, json)\u001b[39m\n\u001b[32m     74\u001b[39m \u001b[38;5;28;01mdef\u001b[39;00m\u001b[38;5;250m \u001b[39m\u001b[34mrequest\u001b[39m(\u001b[38;5;28mself\u001b[39m, session, cache_location=\u001b[38;5;28;01mNone\u001b[39;00m, stream=\u001b[38;5;28;01mFalse\u001b[39;00m,\n\u001b[32m     75\u001b[39m             auth=\u001b[38;5;28;01mNone\u001b[39;00m, verify=\u001b[38;5;28;01mTrue\u001b[39;00m, allow_redirects=\u001b[38;5;28;01mTrue\u001b[39;00m,\n\u001b[32m     76\u001b[39m             json=\u001b[38;5;28;01mNone\u001b[39;00m):\n\u001b[32m---> \u001b[39m\u001b[32m77\u001b[39m     \u001b[38;5;28;01mreturn\u001b[39;00m session.request(\u001b[38;5;28mself\u001b[39m.method, \u001b[38;5;28mself\u001b[39m.url, params=\u001b[38;5;28mself\u001b[39m.params,\n\u001b[32m     78\u001b[39m                            data=\u001b[38;5;28mself\u001b[39m.data, headers=\u001b[38;5;28mself\u001b[39m.headers,\n\u001b[32m     79\u001b[39m                            files=\u001b[38;5;28mself\u001b[39m.files, timeout=\u001b[38;5;28mself\u001b[39m.timeout,\n\u001b[32m     80\u001b[39m                            stream=stream, auth=auth, verify=verify,\n\u001b[32m     81\u001b[39m                            allow_redirects=allow_redirects,\n\u001b[32m     82\u001b[39m                            json=json)\n",
      "\u001b[36mFile \u001b[39m\u001b[32mc:\\Users\\nicek\\anaconda3\\envs\\anaconda-toolbox\\Lib\\site-packages\\requests\\sessions.py:589\u001b[39m, in \u001b[36mSession.request\u001b[39m\u001b[34m(self, method, url, params, data, headers, cookies, files, auth, timeout, allow_redirects, proxies, hooks, stream, verify, cert, json)\u001b[39m\n\u001b[32m    584\u001b[39m send_kwargs = {\n\u001b[32m    585\u001b[39m     \u001b[33m\"\u001b[39m\u001b[33mtimeout\u001b[39m\u001b[33m\"\u001b[39m: timeout,\n\u001b[32m    586\u001b[39m     \u001b[33m\"\u001b[39m\u001b[33mallow_redirects\u001b[39m\u001b[33m\"\u001b[39m: allow_redirects,\n\u001b[32m    587\u001b[39m }\n\u001b[32m    588\u001b[39m send_kwargs.update(settings)\n\u001b[32m--> \u001b[39m\u001b[32m589\u001b[39m resp = \u001b[38;5;28mself\u001b[39m.send(prep, **send_kwargs)\n\u001b[32m    591\u001b[39m \u001b[38;5;28;01mreturn\u001b[39;00m resp\n",
      "\u001b[36mFile \u001b[39m\u001b[32mc:\\Users\\nicek\\anaconda3\\envs\\anaconda-toolbox\\Lib\\site-packages\\requests\\sessions.py:710\u001b[39m, in \u001b[36mSession.send\u001b[39m\u001b[34m(self, request, **kwargs)\u001b[39m\n\u001b[32m    707\u001b[39m r.elapsed = timedelta(seconds=elapsed)\n\u001b[32m    709\u001b[39m \u001b[38;5;66;03m# Response manipulation hooks\u001b[39;00m\n\u001b[32m--> \u001b[39m\u001b[32m710\u001b[39m r = dispatch_hook(\u001b[33m\"\u001b[39m\u001b[33mresponse\u001b[39m\u001b[33m\"\u001b[39m, hooks, r, **kwargs)\n\u001b[32m    712\u001b[39m \u001b[38;5;66;03m# Persist cookies\u001b[39;00m\n\u001b[32m    713\u001b[39m \u001b[38;5;28;01mif\u001b[39;00m r.history:\n\u001b[32m    714\u001b[39m     \u001b[38;5;66;03m# If the hooks create history then we want those cookies too\u001b[39;00m\n",
      "\u001b[36mFile \u001b[39m\u001b[32mc:\\Users\\nicek\\anaconda3\\envs\\anaconda-toolbox\\Lib\\site-packages\\requests\\hooks.py:30\u001b[39m, in \u001b[36mdispatch_hook\u001b[39m\u001b[34m(key, hooks, hook_data, **kwargs)\u001b[39m\n\u001b[32m     28\u001b[39m     hooks = [hooks]\n\u001b[32m     29\u001b[39m \u001b[38;5;28;01mfor\u001b[39;00m hook \u001b[38;5;129;01min\u001b[39;00m hooks:\n\u001b[32m---> \u001b[39m\u001b[32m30\u001b[39m     _hook_data = hook(hook_data, **kwargs)\n\u001b[32m     31\u001b[39m     \u001b[38;5;28;01mif\u001b[39;00m _hook_data \u001b[38;5;129;01mis\u001b[39;00m \u001b[38;5;129;01mnot\u001b[39;00m \u001b[38;5;28;01mNone\u001b[39;00m:\n\u001b[32m     32\u001b[39m         hook_data = _hook_data\n",
      "\u001b[36mFile \u001b[39m\u001b[32mc:\\Users\\nicek\\anaconda3\\envs\\anaconda-toolbox\\Lib\\site-packages\\astroquery\\query.py:261\u001b[39m, in \u001b[36mBaseQuery._response_hook\u001b[39m\u001b[34m(self, response, *args, **kwargs)\u001b[39m\n\u001b[32m    249\u001b[39m     response_log = textwrap.indent(\n\u001b[32m    250\u001b[39m         \u001b[33mf\u001b[39m\u001b[33m\"\u001b[39m\u001b[33m-----------------------------------------\u001b[39m\u001b[38;5;130;01m\\n\u001b[39;00m\u001b[33m\"\u001b[39m\n\u001b[32m    251\u001b[39m         \u001b[33mf\u001b[39m\u001b[33m\"\u001b[39m\u001b[38;5;132;01m{\u001b[39;00mresponse.status_code\u001b[38;5;132;01m}\u001b[39;00m\u001b[33m \u001b[39m\u001b[38;5;132;01m{\u001b[39;00mresponse.reason\u001b[38;5;132;01m}\u001b[39;00m\u001b[33m \u001b[39m\u001b[38;5;132;01m{\u001b[39;00mresponse.url\u001b[38;5;132;01m}\u001b[39;00m\u001b[38;5;130;01m\\n\u001b[39;00m\u001b[33m\"\u001b[39m\n\u001b[32m    252\u001b[39m         \u001b[33mf\u001b[39m\u001b[33m\"\u001b[39m\u001b[38;5;132;01m{\u001b[39;00mresponse_hdrs\u001b[38;5;132;01m}\u001b[39;00m\u001b[38;5;130;01m\\n\u001b[39;00m\u001b[33m\"\u001b[39m\n\u001b[32m    253\u001b[39m         \u001b[33m\"\u001b[39m\u001b[33mStreaming Data\u001b[39m\u001b[38;5;130;01m\\n\u001b[39;00m\u001b[33m\"\u001b[39m\n\u001b[32m    254\u001b[39m         \u001b[33mf\u001b[39m\u001b[33m\"\u001b[39m\u001b[33m-----------------------------------------\u001b[39m\u001b[33m\"\u001b[39m, \u001b[33m'\u001b[39m\u001b[38;5;130;01m\\t\u001b[39;00m\u001b[33m'\u001b[39m)\n\u001b[32m    255\u001b[39m \u001b[38;5;28;01melse\u001b[39;00m:\n\u001b[32m    256\u001b[39m     response_log = textwrap.indent(\n\u001b[32m    257\u001b[39m         \u001b[33mf\u001b[39m\u001b[33m\"\u001b[39m\u001b[33m-----------------------------------------\u001b[39m\u001b[38;5;130;01m\\n\u001b[39;00m\u001b[33m\"\u001b[39m\n\u001b[32m    258\u001b[39m         \u001b[33mf\u001b[39m\u001b[33m\"\u001b[39m\u001b[38;5;132;01m{\u001b[39;00mresponse.status_code\u001b[38;5;132;01m}\u001b[39;00m\u001b[33m \u001b[39m\u001b[38;5;132;01m{\u001b[39;00mresponse.reason\u001b[38;5;132;01m}\u001b[39;00m\u001b[33m \u001b[39m\u001b[38;5;132;01m{\u001b[39;00mresponse.url\u001b[38;5;132;01m}\u001b[39;00m\u001b[38;5;130;01m\\n\u001b[39;00m\u001b[33m\"\u001b[39m\n\u001b[32m    259\u001b[39m         \u001b[33mf\u001b[39m\u001b[33m\"\u001b[39m\u001b[38;5;132;01m{\u001b[39;00mresponse_hdrs\u001b[38;5;132;01m}\u001b[39;00m\u001b[38;5;130;01m\\n\u001b[39;00m\u001b[33m\"\u001b[39m\n\u001b[32m    260\u001b[39m         \u001b[33mf\u001b[39m\u001b[33m\"\u001b[39m\u001b[38;5;130;01m\\n\u001b[39;00m\u001b[33m\"\u001b[39m\n\u001b[32m--> \u001b[39m\u001b[32m261\u001b[39m         \u001b[33mf\u001b[39m\u001b[33m\"\u001b[39m\u001b[38;5;132;01m{\u001b[39;00mresponse.text\u001b[38;5;132;01m}\u001b[39;00m\u001b[38;5;130;01m\\n\u001b[39;00m\u001b[33m\"\u001b[39m\n\u001b[32m    262\u001b[39m         \u001b[33mf\u001b[39m\u001b[33m\"\u001b[39m\u001b[33m-----------------------------------------\u001b[39m\u001b[33m\"\u001b[39m, \u001b[33m'\u001b[39m\u001b[38;5;130;01m\\t\u001b[39;00m\u001b[33m'\u001b[39m)\n\u001b[32m    263\u001b[39m log.log(\u001b[32m5\u001b[39m, \u001b[33mf\u001b[39m\u001b[33m\"\u001b[39m\u001b[33mHTTP response\u001b[39m\u001b[38;5;130;01m\\n\u001b[39;00m\u001b[38;5;132;01m{\u001b[39;00mresponse_log\u001b[38;5;132;01m}\u001b[39;00m\u001b[33m\"\u001b[39m)\n",
      "\u001b[36mFile \u001b[39m\u001b[32mc:\\Users\\nicek\\anaconda3\\envs\\anaconda-toolbox\\Lib\\site-packages\\requests\\models.py:926\u001b[39m, in \u001b[36mResponse.text\u001b[39m\u001b[34m(self)\u001b[39m\n\u001b[32m    923\u001b[39m content = \u001b[38;5;28;01mNone\u001b[39;00m\n\u001b[32m    924\u001b[39m encoding = \u001b[38;5;28mself\u001b[39m.encoding\n\u001b[32m--> \u001b[39m\u001b[32m926\u001b[39m \u001b[38;5;28;01mif\u001b[39;00m \u001b[38;5;129;01mnot\u001b[39;00m \u001b[38;5;28mself\u001b[39m.content:\n\u001b[32m    927\u001b[39m     \u001b[38;5;28;01mreturn\u001b[39;00m \u001b[33m\"\u001b[39m\u001b[33m\"\u001b[39m\n\u001b[32m    929\u001b[39m \u001b[38;5;66;03m# Fallback to auto-detected encoding.\u001b[39;00m\n",
      "\u001b[36mFile \u001b[39m\u001b[32mc:\\Users\\nicek\\anaconda3\\envs\\anaconda-toolbox\\Lib\\site-packages\\requests\\models.py:902\u001b[39m, in \u001b[36mResponse.content\u001b[39m\u001b[34m(self)\u001b[39m\n\u001b[32m    900\u001b[39m         \u001b[38;5;28mself\u001b[39m._content = \u001b[38;5;28;01mNone\u001b[39;00m\n\u001b[32m    901\u001b[39m     \u001b[38;5;28;01melse\u001b[39;00m:\n\u001b[32m--> \u001b[39m\u001b[32m902\u001b[39m         \u001b[38;5;28mself\u001b[39m._content = \u001b[33mb\u001b[39m\u001b[33m\"\u001b[39m\u001b[33m\"\u001b[39m.join(\u001b[38;5;28mself\u001b[39m.iter_content(CONTENT_CHUNK_SIZE)) \u001b[38;5;129;01mor\u001b[39;00m \u001b[33mb\u001b[39m\u001b[33m\"\u001b[39m\u001b[33m\"\u001b[39m\n\u001b[32m    904\u001b[39m \u001b[38;5;28mself\u001b[39m._content_consumed = \u001b[38;5;28;01mTrue\u001b[39;00m\n\u001b[32m    905\u001b[39m \u001b[38;5;66;03m# don't need to release the connection; that's been handled by urllib3\u001b[39;00m\n\u001b[32m    906\u001b[39m \u001b[38;5;66;03m# since we exhausted the data.\u001b[39;00m\n",
      "\u001b[36mFile \u001b[39m\u001b[32mc:\\Users\\nicek\\anaconda3\\envs\\anaconda-toolbox\\Lib\\site-packages\\requests\\models.py:820\u001b[39m, in \u001b[36mResponse.iter_content.<locals>.generate\u001b[39m\u001b[34m()\u001b[39m\n\u001b[32m    818\u001b[39m \u001b[38;5;28;01mif\u001b[39;00m \u001b[38;5;28mhasattr\u001b[39m(\u001b[38;5;28mself\u001b[39m.raw, \u001b[33m\"\u001b[39m\u001b[33mstream\u001b[39m\u001b[33m\"\u001b[39m):\n\u001b[32m    819\u001b[39m     \u001b[38;5;28;01mtry\u001b[39;00m:\n\u001b[32m--> \u001b[39m\u001b[32m820\u001b[39m         \u001b[38;5;28;01myield from\u001b[39;00m \u001b[38;5;28mself\u001b[39m.raw.stream(chunk_size, decode_content=\u001b[38;5;28;01mTrue\u001b[39;00m)\n\u001b[32m    821\u001b[39m     \u001b[38;5;28;01mexcept\u001b[39;00m ProtocolError \u001b[38;5;28;01mas\u001b[39;00m e:\n\u001b[32m    822\u001b[39m         \u001b[38;5;28;01mraise\u001b[39;00m ChunkedEncodingError(e)\n",
      "\u001b[36mFile \u001b[39m\u001b[32mc:\\Users\\nicek\\anaconda3\\envs\\anaconda-toolbox\\Lib\\site-packages\\urllib3\\response.py:1088\u001b[39m, in \u001b[36mHTTPResponse.stream\u001b[39m\u001b[34m(self, amt, decode_content)\u001b[39m\n\u001b[32m   1072\u001b[39m \u001b[38;5;250m\u001b[39m\u001b[33;03m\"\"\"\u001b[39;00m\n\u001b[32m   1073\u001b[39m \u001b[33;03mA generator wrapper for the read() method. A call will block until\u001b[39;00m\n\u001b[32m   1074\u001b[39m \u001b[33;03m``amt`` bytes have been read from the connection or until the\u001b[39;00m\n\u001b[32m   (...)\u001b[39m\u001b[32m   1085\u001b[39m \u001b[33;03m    'content-encoding' header.\u001b[39;00m\n\u001b[32m   1086\u001b[39m \u001b[33;03m\"\"\"\u001b[39;00m\n\u001b[32m   1087\u001b[39m \u001b[38;5;28;01mif\u001b[39;00m \u001b[38;5;28mself\u001b[39m.chunked \u001b[38;5;129;01mand\u001b[39;00m \u001b[38;5;28mself\u001b[39m.supports_chunked_reads():\n\u001b[32m-> \u001b[39m\u001b[32m1088\u001b[39m     \u001b[38;5;28;01myield from\u001b[39;00m \u001b[38;5;28mself\u001b[39m.read_chunked(amt, decode_content=decode_content)\n\u001b[32m   1089\u001b[39m \u001b[38;5;28;01melse\u001b[39;00m:\n\u001b[32m   1090\u001b[39m     \u001b[38;5;28;01mwhile\u001b[39;00m \u001b[38;5;129;01mnot\u001b[39;00m is_fp_closed(\u001b[38;5;28mself\u001b[39m._fp) \u001b[38;5;129;01mor\u001b[39;00m \u001b[38;5;28mlen\u001b[39m(\u001b[38;5;28mself\u001b[39m._decoded_buffer) > \u001b[32m0\u001b[39m:\n",
      "\u001b[36mFile \u001b[39m\u001b[32mc:\\Users\\nicek\\anaconda3\\envs\\anaconda-toolbox\\Lib\\site-packages\\urllib3\\response.py:1251\u001b[39m, in \u001b[36mHTTPResponse.read_chunked\u001b[39m\u001b[34m(self, amt, decode_content)\u001b[39m\n\u001b[32m   1249\u001b[39m \u001b[38;5;28;01mif\u001b[39;00m \u001b[38;5;28mself\u001b[39m.chunk_left == \u001b[32m0\u001b[39m:\n\u001b[32m   1250\u001b[39m     \u001b[38;5;28;01mbreak\u001b[39;00m\n\u001b[32m-> \u001b[39m\u001b[32m1251\u001b[39m chunk = \u001b[38;5;28mself\u001b[39m._handle_chunk(amt)\n\u001b[32m   1252\u001b[39m decoded = \u001b[38;5;28mself\u001b[39m._decode(\n\u001b[32m   1253\u001b[39m     chunk, decode_content=decode_content, flush_decoder=\u001b[38;5;28;01mFalse\u001b[39;00m\n\u001b[32m   1254\u001b[39m )\n\u001b[32m   1255\u001b[39m \u001b[38;5;28;01mif\u001b[39;00m decoded:\n",
      "\u001b[36mFile \u001b[39m\u001b[32mc:\\Users\\nicek\\anaconda3\\envs\\anaconda-toolbox\\Lib\\site-packages\\urllib3\\response.py:1197\u001b[39m, in \u001b[36mHTTPResponse._handle_chunk\u001b[39m\u001b[34m(self, amt)\u001b[39m\n\u001b[32m   1195\u001b[39m     returned_chunk = value\n\u001b[32m   1196\u001b[39m \u001b[38;5;28;01melse\u001b[39;00m:  \u001b[38;5;66;03m# amt > self.chunk_left\u001b[39;00m\n\u001b[32m-> \u001b[39m\u001b[32m1197\u001b[39m     returned_chunk = \u001b[38;5;28mself\u001b[39m._fp._safe_read(\u001b[38;5;28mself\u001b[39m.chunk_left)  \u001b[38;5;66;03m# type: ignore[union-attr]\u001b[39;00m\n\u001b[32m   1198\u001b[39m     \u001b[38;5;28mself\u001b[39m._fp._safe_read(\u001b[32m2\u001b[39m)  \u001b[38;5;66;03m# type: ignore[union-attr] # Toss the CRLF at the end of the chunk.\u001b[39;00m\n\u001b[32m   1199\u001b[39m     \u001b[38;5;28mself\u001b[39m.chunk_left = \u001b[38;5;28;01mNone\u001b[39;00m\n",
      "\u001b[36mFile \u001b[39m\u001b[32mc:\\Users\\nicek\\anaconda3\\envs\\anaconda-toolbox\\Lib\\http\\client.py:642\u001b[39m, in \u001b[36mHTTPResponse._safe_read\u001b[39m\u001b[34m(self, amt)\u001b[39m\n\u001b[32m    635\u001b[39m \u001b[38;5;28;01mdef\u001b[39;00m\u001b[38;5;250m \u001b[39m\u001b[34m_safe_read\u001b[39m(\u001b[38;5;28mself\u001b[39m, amt):\n\u001b[32m    636\u001b[39m \u001b[38;5;250m    \u001b[39m\u001b[33;03m\"\"\"Read the number of bytes requested.\u001b[39;00m\n\u001b[32m    637\u001b[39m \n\u001b[32m    638\u001b[39m \u001b[33;03m    This function should be used when <amt> bytes \"should\" be present for\u001b[39;00m\n\u001b[32m    639\u001b[39m \u001b[33;03m    reading. If the bytes are truly not available (due to EOF), then the\u001b[39;00m\n\u001b[32m    640\u001b[39m \u001b[33;03m    IncompleteRead exception can be used to detect the problem.\u001b[39;00m\n\u001b[32m    641\u001b[39m \u001b[33;03m    \"\"\"\u001b[39;00m\n\u001b[32m--> \u001b[39m\u001b[32m642\u001b[39m     data = \u001b[38;5;28mself\u001b[39m.fp.read(amt)\n\u001b[32m    643\u001b[39m     \u001b[38;5;28;01mif\u001b[39;00m \u001b[38;5;28mlen\u001b[39m(data) < amt:\n\u001b[32m    644\u001b[39m         \u001b[38;5;28;01mraise\u001b[39;00m IncompleteRead(data, amt-\u001b[38;5;28mlen\u001b[39m(data))\n",
      "\u001b[36mFile \u001b[39m\u001b[32mc:\\Users\\nicek\\anaconda3\\envs\\anaconda-toolbox\\Lib\\socket.py:720\u001b[39m, in \u001b[36mSocketIO.readinto\u001b[39m\u001b[34m(self, b)\u001b[39m\n\u001b[32m    718\u001b[39m \u001b[38;5;28;01mwhile\u001b[39;00m \u001b[38;5;28;01mTrue\u001b[39;00m:\n\u001b[32m    719\u001b[39m     \u001b[38;5;28;01mtry\u001b[39;00m:\n\u001b[32m--> \u001b[39m\u001b[32m720\u001b[39m         \u001b[38;5;28;01mreturn\u001b[39;00m \u001b[38;5;28mself\u001b[39m._sock.recv_into(b)\n\u001b[32m    721\u001b[39m     \u001b[38;5;28;01mexcept\u001b[39;00m timeout:\n\u001b[32m    722\u001b[39m         \u001b[38;5;28mself\u001b[39m._timeout_occurred = \u001b[38;5;28;01mTrue\u001b[39;00m\n",
      "\u001b[36mFile \u001b[39m\u001b[32mc:\\Users\\nicek\\anaconda3\\envs\\anaconda-toolbox\\Lib\\ssl.py:1251\u001b[39m, in \u001b[36mSSLSocket.recv_into\u001b[39m\u001b[34m(self, buffer, nbytes, flags)\u001b[39m\n\u001b[32m   1247\u001b[39m     \u001b[38;5;28;01mif\u001b[39;00m flags != \u001b[32m0\u001b[39m:\n\u001b[32m   1248\u001b[39m         \u001b[38;5;28;01mraise\u001b[39;00m \u001b[38;5;167;01mValueError\u001b[39;00m(\n\u001b[32m   1249\u001b[39m           \u001b[33m\"\u001b[39m\u001b[33mnon-zero flags not allowed in calls to recv_into() on \u001b[39m\u001b[38;5;132;01m%s\u001b[39;00m\u001b[33m\"\u001b[39m %\n\u001b[32m   1250\u001b[39m           \u001b[38;5;28mself\u001b[39m.\u001b[34m__class__\u001b[39m)\n\u001b[32m-> \u001b[39m\u001b[32m1251\u001b[39m     \u001b[38;5;28;01mreturn\u001b[39;00m \u001b[38;5;28mself\u001b[39m.read(nbytes, buffer)\n\u001b[32m   1252\u001b[39m \u001b[38;5;28;01melse\u001b[39;00m:\n\u001b[32m   1253\u001b[39m     \u001b[38;5;28;01mreturn\u001b[39;00m \u001b[38;5;28msuper\u001b[39m().recv_into(buffer, nbytes, flags)\n",
      "\u001b[36mFile \u001b[39m\u001b[32mc:\\Users\\nicek\\anaconda3\\envs\\anaconda-toolbox\\Lib\\ssl.py:1103\u001b[39m, in \u001b[36mSSLSocket.read\u001b[39m\u001b[34m(self, len, buffer)\u001b[39m\n\u001b[32m   1101\u001b[39m \u001b[38;5;28;01mtry\u001b[39;00m:\n\u001b[32m   1102\u001b[39m     \u001b[38;5;28;01mif\u001b[39;00m buffer \u001b[38;5;129;01mis\u001b[39;00m \u001b[38;5;129;01mnot\u001b[39;00m \u001b[38;5;28;01mNone\u001b[39;00m:\n\u001b[32m-> \u001b[39m\u001b[32m1103\u001b[39m         \u001b[38;5;28;01mreturn\u001b[39;00m \u001b[38;5;28mself\u001b[39m._sslobj.read(\u001b[38;5;28mlen\u001b[39m, buffer)\n\u001b[32m   1104\u001b[39m     \u001b[38;5;28;01melse\u001b[39;00m:\n\u001b[32m   1105\u001b[39m         \u001b[38;5;28;01mreturn\u001b[39;00m \u001b[38;5;28mself\u001b[39m._sslobj.read(\u001b[38;5;28mlen\u001b[39m)\n",
      "\u001b[31mKeyboardInterrupt\u001b[39m: "
     ]
    }
   ],
   "source": [
    "from astroquery.vizier import Vizier\n",
    "\n",
    "# remove row limit\n",
    "Vizier.ROW_LIMIT = -1  \n",
    "\n",
    "# Query the entire catalog (all tables under J/A+A/632/A105)\n",
    "result = Vizier.get_catalogs(\"J/A+A/632/A105\")\n",
    "\n",
    "print(\"Available tables:\", result.keys())\n"
   ]
  },
  {
   "cell_type": "code",
   "execution_count": null,
   "id": "10ccfe43",
   "metadata": {},
   "outputs": [],
   "source": [
    "# ---------------------------\n",
    "# 3. Plot CMD + Isochrone\n",
    "# ---------------------------\n",
    "plt.figure(figsize=(6,8))\n",
    "plt.scatter(bp_rp, M_G, s=10, c=\"k\", alpha=0.5, label=\"Pleiades (Gaia DR3)\")\n",
    "plt.plot(bp_rp_iso, M_G_iso, \"r-\", lw=2, label=\"PARSEC Isochrone (100 Myr)\")\n",
    "plt.gca().invert_yaxis()\n",
    "plt.xlabel(\"BP - RP (mag)\")\n",
    "plt.ylabel(\"Absolute G (mag)\")\n",
    "plt.title(\"Pleiades CMD with Isochrone Fit\")\n",
    "plt.legend()\n",
    "p"
   ]
  }
 ],
 "metadata": {
  "kernelspec": {
   "display_name": "anaconda-toolbox",
   "language": "python",
   "name": "python3"
  },
  "language_info": {
   "codemirror_mode": {
    "name": "ipython",
    "version": 3
   },
   "file_extension": ".py",
   "mimetype": "text/x-python",
   "name": "python",
   "nbconvert_exporter": "python",
   "pygments_lexer": "ipython3",
   "version": "3.12.11"
  }
 },
 "nbformat": 4,
 "nbformat_minor": 5
}
